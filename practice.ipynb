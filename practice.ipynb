{
 "cells": [
  {
   "cell_type": "code",
   "execution_count": 1,
   "metadata": {},
   "outputs": [
    {
     "name": "stdout",
     "output_type": "stream",
     "text": [
      "0\n",
      "1\n",
      "2\n",
      "3\n",
      "4\n",
      "5\n",
      "6\n",
      "7\n",
      "8\n",
      "9\n"
     ]
    }
   ],
   "source": [
    "a = [0, 10]\n",
    "for i in range(*a):\n",
    "    print(i)"
   ]
  },
  {
   "cell_type": "code",
   "execution_count": 10,
   "metadata": {},
   "outputs": [
    {
     "name": "stdout",
     "output_type": "stream",
     "text": [
      "4\n",
      "4\n",
      "4\n",
      "4\n",
      "4\n",
      "4\n",
      "0\n",
      "2\n",
      "4\n"
     ]
    }
   ],
   "source": [
    "flist = []\n",
    "# 示例一：\n",
    "for i in range(3):\n",
    "    def func(x):\n",
    "        return x*i\n",
    "    flist.append(func)\n",
    "\n",
    "for f in flist:\n",
    "    print(f(2))\n",
    "# 答案：4 4 4\n",
    "# loop在python中是没有域的概念的，flist在像列表中添加func的时候，并没有保存i的值，\n",
    "# 而是当执行f(2)的时候才去取，这时候循环已经结束，i的值是2，所以结果都是4。\n",
    "\n",
    "# 示例二：\n",
    "for i in range(3):\n",
    "    def make_file(j):\n",
    "        def func(x):\n",
    "            return x*j\n",
    "        return func\n",
    "    flist.append(make_file(i)) # 形成闭包，得到预期结果\n",
    "\n",
    "for f in flist:\n",
    "    print(f(2))\n",
    "# 答案：0 2 4\n"
   ]
  },
  {
   "cell_type": "code",
   "execution_count": 3,
   "metadata": {},
   "outputs": [
    {
     "data": {
      "text/plain": [
       "[1]"
      ]
     },
     "execution_count": 3,
     "metadata": {},
     "output_type": "execute_result"
    }
   ],
   "source": [
    "def add(x):\n",
    "    i = 5\n",
    "    a= []\n",
    "    def sum(y):\n",
    "        a.append(x) # 成功！\n",
    "        # i += 1 # 报错！\n",
    "        # 闭包可以引用外部函数变量，无法修改外部基本类型的变量\n",
    "        return\n",
    "    sum(4)\n",
    "    return a\n",
    "add(1)"
   ]
  }
 ],
 "metadata": {
  "kernelspec": {
   "display_name": "Python 3.8.7 ('.venv': venv)",
   "language": "python",
   "name": "python3"
  },
  "language_info": {
   "codemirror_mode": {
    "name": "ipython",
    "version": 3
   },
   "file_extension": ".py",
   "mimetype": "text/x-python",
   "name": "python",
   "nbconvert_exporter": "python",
   "pygments_lexer": "ipython3",
   "version": "3.8.7"
  },
  "orig_nbformat": 4,
  "vscode": {
   "interpreter": {
    "hash": "7cdda19910c7279599d66c6a8fc466c06237b32a15c2c3f56ee0419b0621fd32"
   }
  }
 },
 "nbformat": 4,
 "nbformat_minor": 2
}
