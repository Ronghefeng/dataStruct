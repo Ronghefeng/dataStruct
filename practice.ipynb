{
 "cells": [
  {
   "cell_type": "code",
   "execution_count": 1,
   "metadata": {},
   "outputs": [
    {
     "data": {
      "text/plain": [
       "1000000000"
      ]
     },
     "execution_count": 1,
     "metadata": {},
     "output_type": "execute_result"
    }
   ],
   "source": [
    "int(1e9)"
   ]
  },
  {
   "cell_type": "code",
   "execution_count": 38,
   "metadata": {},
   "outputs": [
    {
     "name": "stdout",
     "output_type": "stream",
     "text": [
      "(1, 2, 3)\n",
      "('a', 'b', 'v')\n"
     ]
    }
   ],
   "source": [
    "# zip\n",
    "\n",
    "# 示例一\n",
    "dict(zip((1,2,3), ('a', 'b', 'v'))) # {1: 'a', 2: 'b', 3: 'v'}\n",
    "# 示例二\n",
    "a = zip((1,2,3), ('a', 'b', 'v'))\n",
    "for item in a:\n",
    "    print(item)\n",
    "# 输出结果\n",
    "# (1, 'a')\n",
    "# (2, 'b')\n",
    "# (3, 'v')\n",
    "#示例三：逆转示例二\n",
    "for item in zip(*zip((1,2,3), ('a', 'b', 'v'))):\n",
    "    print(item)\n",
    "# 输出结果\n",
    "# (1, 2, 3)\n",
    "# ('a', 'b', 'v')\n"
   ]
  },
  {
   "cell_type": "code",
   "execution_count": 12,
   "metadata": {},
   "outputs": [
    {
     "data": {
      "text/plain": [
       "2"
      ]
     },
     "execution_count": 12,
     "metadata": {},
     "output_type": "execute_result"
    }
   ],
   "source": [
    "# 迭代器\n",
    "\n",
    "# 实现了 __iter__ --> 可迭代对象\n",
    "# 实现了 __next__ --> 迭代器\n",
    "\n",
    "class Test:\n",
    "    def __init__(self, data):\n",
    "        self.data = data\n",
    "        self.index = 0\n",
    "    \n",
    "    def __iter__(self):\n",
    "        return iter(self.data)\n",
    "    \n",
    "    def __next__(self):\n",
    "        val =  self.data[self.index]\n",
    "        self.index += 1\n",
    "        return val\n",
    "\n",
    "t = Test([1,2,3,4,5])\n",
    "\n",
    "# for x in t:   # __iter__\n",
    "#     print(x)\n",
    "\n",
    "# t.__next__()\n",
    "\n",
    "# 示例一\n",
    "list(map(lambda x: x**2, [1,2,3,4]))\n",
    "# 示例二\n",
    "x = lambda: input('n: ')\n",
    "for i in iter(x, 'end'):\n",
    "    print(i)\n",
    "# 示例三\n",
    "x = iter([1,2])\n",
    "while True:\n",
    "    try:\n",
    "        print(next(x)) # 等同于  print(x.__next__())\n",
    "    except StopIteration:\n",
    "        break\n",
    "# 示例四\n",
    "class Data:\n",
    "    def __init__(self, data):\n",
    "        self.data = data\n",
    "    def __getitem__ (self, index):\n",
    "        if index < 0 or index >= self.data:\n",
    "            raise IndexError\n",
    "        return index + 100\n",
    "\n",
    "t = iter(Data(2))\n",
    "\n",
    "for i in t:\n",
    "    print(i) # 100 101"
   ]
  },
  {
   "cell_type": "code",
   "execution_count": 10,
   "metadata": {},
   "outputs": [
    {
     "name": "stdout",
     "output_type": "stream",
     "text": [
      "4\n",
      "4\n",
      "4\n",
      "4\n",
      "4\n",
      "4\n",
      "0\n",
      "2\n",
      "4\n"
     ]
    }
   ],
   "source": [
    "# 闭包\n",
    "\n",
    "flist = []\n",
    "# 示例一：\n",
    "for i in range(3):\n",
    "    def func(x):\n",
    "        return x*i\n",
    "    flist.append(func)\n",
    "\n",
    "for f in flist:\n",
    "    print(f(2))\n",
    "# 答案：4 4 4\n",
    "# loop在python中是没有域的概念的，flist在像列表中添加func的时候，并没有保存i的值，\n",
    "# 而是当执行f(2)的时候才去取，这时候循环已经结束，i的值是2，所以结果都是4。\n",
    "\n",
    "# 示例二：\n",
    "for i in range(3):\n",
    "    def make_file(j):\n",
    "        def func(x):\n",
    "            return x*j\n",
    "        return func\n",
    "    flist.append(make_file(i)) # 形成闭包，得到预期结果\n",
    "\n",
    "for f in flist:\n",
    "    print(f(2))\n",
    "# 答案：0 2 4\n",
    "\n",
    "# 示例三\n",
    "\n",
    "def add(x):\n",
    "    i = 5\n",
    "    a= []\n",
    "    def sum(y):\n",
    "        a.append(x) # 成功！\n",
    "        # i += 1 # 报错！\n",
    "        # 闭包可以引用外部函数变量，无法修改外部基本类型的变量\n",
    "        return\n",
    "    sum(4)\n",
    "    return a\n",
    "add(1)"
   ]
  }
 ],
 "metadata": {
  "kernelspec": {
   "display_name": "Python 3.8.7 ('.venv': venv)",
   "language": "python",
   "name": "python3"
  },
  "language_info": {
   "codemirror_mode": {
    "name": "ipython",
    "version": 3
   },
   "file_extension": ".py",
   "mimetype": "text/x-python",
   "name": "python",
   "nbconvert_exporter": "python",
   "pygments_lexer": "ipython3",
   "version": "3.8.7"
  },
  "orig_nbformat": 4,
  "vscode": {
   "interpreter": {
    "hash": "7cdda19910c7279599d66c6a8fc466c06237b32a15c2c3f56ee0419b0621fd32"
   }
  }
 },
 "nbformat": 4,
 "nbformat_minor": 2
}
